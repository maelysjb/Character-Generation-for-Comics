{
 "cells": [
  {
   "cell_type": "code",
   "execution_count": 2,
   "metadata": {},
   "outputs": [],
   "source": [
    "import re \n"
   ]
  },
  {
   "cell_type": "code",
   "execution_count": 3,
   "metadata": {},
   "outputs": [],
   "source": [
    "# opening the text file \n",
    "with open('training_logs.txt','r') as file:\n",
    "    autotrain_output = file.read()\n"
   ]
  },
  {
   "cell_type": "code",
   "execution_count": 7,
   "metadata": {},
   "outputs": [
    {
     "name": "stdout",
     "output_type": "stream",
     "text": [
      "Run times: ['00:29', '01:04', '01:04', '01:35', '01:35', '02:30', '02:30', '03:18', '03:18', '03:21']\n",
      "Loss values found: [0.136, 0.136, 0.00311, 0.00311, 0.0677, 0.0677, 0.283, 0.283, 0.0348, 0.0348]\n"
     ]
    }
   ],
   "source": [
    "# pattern to extract the loss values + time for run time \n",
    "# pattern = r'Steps:.*?loss=([\\d.]+)'\n",
    "pattern = r'Steps:.*?(\\d{2}:\\d{2}).*?loss=([\\d.]+)'\n",
    "matches = re.findall(pattern, autotrain_output)\n",
    "\n",
    "\n",
    "loss_values = []\n",
    "run_time = []\n",
    "if matches: \n",
    "    for match in matches:\n",
    "        run_time.append(match[0])\n",
    "        loss_values.append(float(match[1]))\n",
    "    \n",
    "    print(\"Run times:\", run_time)\n",
    "    print(\"Loss values found:\",loss_values)\n",
    "else:\n",
    "        print(\"No loss value found.\")\n"
   ]
  },
  {
   "cell_type": "code",
   "execution_count": null,
   "metadata": {},
   "outputs": [],
   "source": []
  }
 ],
 "metadata": {
  "kernelspec": {
   "display_name": "myenv",
   "language": "python",
   "name": "python3"
  },
  "language_info": {
   "codemirror_mode": {
    "name": "ipython",
    "version": 3
   },
   "file_extension": ".py",
   "mimetype": "text/x-python",
   "name": "python",
   "nbconvert_exporter": "python",
   "pygments_lexer": "ipython3",
   "version": "3.12.0"
  }
 },
 "nbformat": 4,
 "nbformat_minor": 2
}
