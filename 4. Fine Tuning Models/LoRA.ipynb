{
 "cells": [
  {
   "cell_type": "markdown",
   "metadata": {},
   "source": [
    " ![bse_logo_textminingcourse](https://bse.eu/sites/default/files/bse_logo_small.png)"
   ]
  },
  {
   "cell_type": "markdown",
   "metadata": {},
   "source": [
    "# Fine Tuning Model: LoRA\n",
    "\n",
    "**ADD TEXT LATER** \n",
    "\n",
    "\n",
    "The code was adapted by our team based on the following source code:\n",
    "- Cuenca, P. et all (2023, January 26). *Fine-Tuning Stable Diffusion with DreamBooth Method*. https://huggingface.co/blog/lora\n",
    "\n",
    "The following code was ran using Kaggle. "
   ]
  },
  {
   "cell_type": "markdown",
   "metadata": {},
   "source": [
    "### Setup Environment \n",
    "\n",
    "For instructions on how to set up the GPU for kaggle, please see the following link: https://github.com/maelysjb/Comics-GenAI/blob/main/README.md#:~:text=.gitignore-,README,-.md"
   ]
  },
  {
   "cell_type": "markdown",
   "metadata": {},
   "source": [
    "### Import Packages and Install Diffusion libraries"
   ]
  },
  {
   "cell_type": "markdown",
   "metadata": {},
   "source": [
    "### Data preparation "
   ]
  },
  {
   "cell_type": "markdown",
   "metadata": {},
   "source": [
    "### Preprocessing the data "
   ]
  },
  {
   "cell_type": "markdown",
   "metadata": {},
   "source": [
    "### Login into Hugging Face account \n",
    "\n",
    "Replace the name for the Hugging Face token where it states: \"TOKEN_FROM_HF\" to the desired name. This will be your own personal Hugging Gace token in order to save a private model and dataset. \n",
    "\n",
    "Instructions on using Hugging Face can be found here: https://github.com/maelysjb/Comics-GenAI/blob/main/README.md#:~:text=.gitignore-,README,-.md"
   ]
  },
  {
   "cell_type": "markdown",
   "metadata": {},
   "source": [
    "### Training LoRA Diffusion model\n",
    "Replace the name for the Hugging Face model id where it states: \"LoRA2000\" to the desired name. "
   ]
  },
  {
   "cell_type": "code",
   "execution_count": null,
   "metadata": {},
   "outputs": [],
   "source": []
  }
 ],
 "metadata": {
  "language_info": {
   "name": "python"
  }
 },
 "nbformat": 4,
 "nbformat_minor": 2
}
