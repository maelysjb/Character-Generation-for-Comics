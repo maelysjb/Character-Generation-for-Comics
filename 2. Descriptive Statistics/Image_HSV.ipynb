{
 "cells": [
  {
   "cell_type": "markdown",
   "metadata": {},
   "source": [
    "# HSV (Hue, Saturation, Value)\n",
    "\n",
    "It separates colour components\n",
    "and has a meaningful ordering of intensity values:\n",
    "\n",
    "- Hue (H) is the pure colour information i.e.\n",
    "angle coordinate on the colour wheel\n",
    "- Saturation (S) is of how “true” a colour is e.g. 0%\n",
    "saturation gives greyish colours\n",
    "- Value (V) is the distance from black e.g. 0%\n",
    "brightness gives blackcolours"
   ]
  },
  {
   "cell_type": "code",
   "execution_count": 2,
   "metadata": {},
   "outputs": [
    {
     "name": "stdout",
     "output_type": "stream",
     "text": [
      "Image 1 HSV values: [0.12530776455086487, 0.15692376843369335, 0.9456196808559103]\n",
      "Image 2 HSV values: [0.14073994430985287, 0.1743608767855623, 0.9381356513415263]\n",
      "Image 3 HSV values: [0.15870838524306988, 0.1795829922666501, 0.9251615713278855]\n",
      "Image 4 HSV values: [0.17916259529830225, 0.22564129518810538, 0.9191530624300625]\n",
      "Image 5 HSV values: [0.11960039112718068, 0.14797350588992672, 0.933122312182797]\n",
      "Image 6 HSV values: [0.11662016218425598, 0.13932845866651797, 0.9521689351319711]\n"
     ]
    }
   ],
   "source": [
    "from PIL import Image\n",
    "import colorsys\n",
    "import glob\n",
    "import numpy as np\n",
    "\n",
    "# Function to calculate HSV from RGB values\n",
    "def rgb_to_hsv(r, g, b):\n",
    "    r /= 255.0\n",
    "    g /= 255.0\n",
    "    b /= 255.0\n",
    "    return colorsys.rgb_to_hsv(r, g, b)\n",
    "\n",
    "# List to store HSV values for each image\n",
    "hsv_values = []\n",
    "\n",
    "# Paths to your images\n",
    "image_paths = glob.glob(\"/data/*.jpeg\")\n",
    "\n",
    "# Load each image, calculate HSV, and store the values\n",
    "for path in image_paths:\n",
    "    img = Image.open(path)\n",
    "    # Convert image to RGB mode \n",
    "    img = img.convert(\"RGB\")\n",
    "    # Get the pixel data\n",
    "    pixels = img.getdata()\n",
    "    # Calculate average HSV values for the image\n",
    "    avg_hsv = [0, 0, 0]\n",
    "    num_pixels = 0\n",
    "    for r, g, b in pixels:\n",
    "        h, s, v = rgb_to_hsv(r, g, b)\n",
    "        avg_hsv[0] += h\n",
    "        avg_hsv[1] += s\n",
    "        avg_hsv[2] += v\n",
    "        num_pixels += 1\n",
    "    avg_hsv[0] /= num_pixels\n",
    "    avg_hsv[1] /= num_pixels\n",
    "    avg_hsv[2] /= num_pixels\n",
    "    hsv_values.append(avg_hsv)\n",
    "\n",
    "# Print the HSV values of the first few images\n",
    "num_imgs_to_preview = min(6, len(hsv_values))\n",
    "for i in range(num_imgs_to_preview):\n",
    "    print(\"Image\", i+1, \"HSV values:\", hsv_values[i])\n"
   ]
  },
  {
   "cell_type": "markdown",
   "metadata": {},
   "source": [
    "### Global statistics"
   ]
  },
  {
   "cell_type": "code",
   "execution_count": 3,
   "metadata": {},
   "outputs": [
    {
     "name": "stdout",
     "output_type": "stream",
     "text": [
      "Minimum HSV values: [0.11662016 0.13932846 0.91915306]\n",
      "Maximum HSV values: [0.1791626  0.2256413  0.95216894]\n",
      "Mean HSV values: [0.14002321 0.17063515 0.9355602 ]\n"
     ]
    }
   ],
   "source": [
    "# Convert the list of HSV values to a NumPy array for easier computation\n",
    "hsv_array = np.array(hsv_values)\n",
    "\n",
    "# Calculate minimum, maximum, and mean of each component (Hue, Saturation, Value)\n",
    "h_min = np.min(hsv_array, axis=0)\n",
    "h_max = np.max(hsv_array, axis=0)\n",
    "h_mean = np.mean(hsv_array, axis=0)\n",
    "\n",
    "# Print the results\n",
    "print(\"Minimum HSV values:\", h_min)\n",
    "print(\"Maximum HSV values:\", h_max)\n",
    "print(\"Mean HSV values:\", h_mean)\n"
   ]
  }
 ],
 "metadata": {
  "kernelspec": {
   "display_name": "base",
   "language": "python",
   "name": "python3"
  },
  "language_info": {
   "codemirror_mode": {
    "name": "ipython",
    "version": 3
   },
   "file_extension": ".py",
   "mimetype": "text/x-python",
   "name": "python",
   "nbconvert_exporter": "python",
   "pygments_lexer": "ipython3",
   "version": "3.11.5"
  }
 },
 "nbformat": 4,
 "nbformat_minor": 2
}
