{
  "cells": [
    {
      "cell_type": "markdown",
      "metadata": {
        "id": "MFNkvjgn1lPI"
      },
      "source": [
        "## Fine-tune Stable DiffusionXL with DreamBooth and LoRA."
      ]
    },
    {
      "cell_type": "markdown",
      "metadata": {
        "id": "pdM59WIoS01O"
      },
      "source": [
        "#### Step 1: Install libraries and dependencies."
      ]
    },
    {
      "cell_type": "code",
      "execution_count": 1,
      "metadata": {
        "id": "55U57alsRIek"
      },
      "outputs": [],
      "source": [
        "# !pip install bitsandbytes transformers accelerate peft -q"
      ]
    },
    {
      "cell_type": "markdown",
      "metadata": {
        "id": "FJXRjGZa1vFZ"
      },
      "source": [
        "Get the diffusers repository from HuggingFace."
      ]
    },
    {
      "cell_type": "code",
      "execution_count": 2,
      "metadata": {
        "id": "9atNWUXFZlVe"
      },
      "outputs": [],
      "source": [
        "# !pip install git+https://github.com/huggingface/diffusers.git -q"
      ]
    },
    {
      "cell_type": "markdown",
      "metadata": {
        "id": "d2TRPaxGx3mE"
      },
      "source": [
        "Download diffusers SDXL DreamBooth training script."
      ]
    },
    {
      "cell_type": "code",
      "execution_count": 3,
      "metadata": {
        "id": "zQpqmq7rx3mE"
      },
      "outputs": [
        {
          "name": "stdout",
          "output_type": "stream",
          "text": [
            "  % Total    % Received % Xferd  Average Speed   Time    Time     Time  Current\n",
            "                                 Dload  Upload   Total   Spent    Left  Speed\n",
            "  0     0    0     0    0     0      0      0 --:--:-- --:--:-- --:--:--     0"
          ]
        },
        {
          "name": "stdout",
          "output_type": "stream",
          "text": [
            "100 84307  100 84307    0     0   234k      0 --:--:-- --:--:-- --:--:--  234k\n"
          ]
        }
      ],
      "source": [
        "#!wget https://raw.githubusercontent.com/huggingface/diffusers/main/examples/dreambooth/train_dreambooth_lora_sdxl.py\n",
        "\n",
        "!curl -O https://raw.githubusercontent.com/huggingface/diffusers/main/examples/dreambooth/train_dreambooth_lora_sdxl.py"
      ]
    },
    {
      "cell_type": "markdown",
      "metadata": {
        "id": "CRBcvYAyS8bU"
      },
      "source": [
        "#### Step 2: Training data"
      ]
    },
    {
      "cell_type": "markdown",
      "metadata": {
        "id": "SURDyDkGy2UV"
      },
      "source": [
        "Create a folder named `SDXL_train` and upload all your training images in it. Make sure all the images are either `.png` or `.jpg`"
      ]
    },
    {
      "cell_type": "code",
      "execution_count": 4,
      "metadata": {
        "id": "TqqhZ9R9x3mG"
      },
      "outputs": [],
      "source": [
        "import os\n",
        "from PIL import Image\n",
        "\n",
        "def image_grid(imgs, rows, cols, resize=256):\n",
        "    if resize is not None:\n",
        "        imgs = [img.resize((resize, resize)) for img in imgs]\n",
        "    w, h = imgs[0].size\n",
        "    grid = Image.new(\"RGB\", size=(cols * w, rows * h))\n",
        "    grid_w, grid_h = grid.size\n",
        "\n",
        "    for i, img in enumerate(imgs):\n",
        "        grid.paste(img, box=(i % cols * w, i // cols * h))\n",
        "    return grid\n",
        "\n",
        "# Path to the existing directory containing images on your laptop\n",
        "local_dir = \"/Users/maelys/Desktop/BSE/Thesis/Comics-GenAI/data/\"\n",
        "\n",
        "# Read images from the existing directory\n",
        "img_paths = sorted([os.path.join(local_dir, filename) for filename in os.listdir(local_dir) if filename.endswith(\".jpg\")])\n",
        "imgs = [Image.open(path) for path in img_paths]\n",
        "\n",
        "# Number of images to preview\n",
        "num_imgs_to_preview = min(5, len(imgs))\n",
        "\n",
        "# Display the images in a grid\n",
        "image_grid(imgs[:num_imgs_to_preview], 1, num_imgs_to_preview).show()\n"
      ]
    },
    {
      "cell_type": "markdown",
      "metadata": {
        "id": "6V9cYeVDx3mH"
      },
      "source": [
        "#### Add a token identifier\n",
        "\n",
        "Let's incorporate a token identifier (e.g., TOK) into each caption by introducing a caption prefix.\n",
        "\n",
        "Feel free to customize the prefix based on the specific concept you are training on.\n",
        "\n",
        "For example: If you're fine-tuning on -\n",
        "*   Human face - \"Photo of a TOK person\"\n",
        "*   Car - \"A photo of a TOK car\"\n",
        "*   Styles - \"In the style of watercolour\"\n",
        "\n"
      ]
    },
    {
      "cell_type": "code",
      "execution_count": 5,
      "metadata": {
        "id": "tTZuM7yNNZsT"
      },
      "outputs": [
        {
          "name": "stdout",
          "output_type": "stream",
          "text": [
            "Requirement already satisfied: autotrain-advanced in /Users/maelys/tensorflow-test/env/lib/python3.10/site-packages (0.7.15)\n",
            "Collecting autotrain-advanced\n",
            "  Using cached autotrain_advanced-0.7.46-py3-none-any.whl (251 kB)\n",
            "Collecting accelerate==0.29.1\n",
            "  Using cached accelerate-0.29.1-py3-none-any.whl (297 kB)\n",
            "Requirement already satisfied: scikit-learn==1.3.0 in /Users/maelys/tensorflow-test/env/lib/python3.10/site-packages (from autotrain-advanced) (1.3.0)\n",
            "Requirement already satisfied: pyngrok==7.0.3 in /Users/maelys/tensorflow-test/env/lib/python3.10/site-packages (from autotrain-advanced) (7.0.3)\n",
            "Requirement already satisfied: nltk==3.8.1 in /Users/maelys/tensorflow-test/env/lib/python3.10/site-packages (from autotrain-advanced) (3.8.1)\n",
            "Requirement already satisfied: datasets[vision]~=2.14.0 in /Users/maelys/tensorflow-test/env/lib/python3.10/site-packages (from autotrain-advanced) (2.14.7)\n",
            "Requirement already satisfied: loguru==0.7.0 in /Users/maelys/tensorflow-test/env/lib/python3.10/site-packages (from autotrain-advanced) (0.7.0)\n",
            "Collecting nvitop==1.3.2\n",
            "  Using cached nvitop-1.3.2-py3-none-any.whl (215 kB)\n",
            "Collecting transformers==4.39.3\n",
            "  Using cached transformers-4.39.3-py3-none-any.whl (8.8 MB)\n",
            "Requirement already satisfied: fastapi==0.104.1 in /Users/maelys/tensorflow-test/env/lib/python3.10/site-packages (from autotrain-advanced) (0.104.1)\n",
            "Requirement already satisfied: tiktoken==0.6.0 in /Users/maelys/tensorflow-test/env/lib/python3.10/site-packages (from autotrain-advanced) (0.6.0)\n",
            "Requirement already satisfied: packaging==23.1 in /Users/maelys/tensorflow-test/env/lib/python3.10/site-packages (from autotrain-advanced) (23.1)\n",
            "Requirement already satisfied: xgboost==1.7.6 in /Users/maelys/tensorflow-test/env/lib/python3.10/site-packages (from autotrain-advanced) (1.7.6)\n",
            "Requirement already satisfied: jiwer==3.0.2 in /Users/maelys/tensorflow-test/env/lib/python3.10/site-packages (from autotrain-advanced) (3.0.2)\n",
            "Requirement already satisfied: invisible-watermark==0.2.0 in /Users/maelys/tensorflow-test/env/lib/python3.10/site-packages (from autotrain-advanced) (0.2.0)\n",
            "Requirement already satisfied: requests==2.31.0 in /Users/maelys/tensorflow-test/env/lib/python3.10/site-packages (from autotrain-advanced) (2.31.0)\n",
            "Collecting diffusers==0.27.2\n",
            "  Using cached diffusers-0.27.2-py3-none-any.whl (2.0 MB)\n",
            "Requirement already satisfied: seqeval==1.2.2 in /Users/maelys/tensorflow-test/env/lib/python3.10/site-packages (from autotrain-advanced) (1.2.2)\n",
            "Requirement already satisfied: evaluate==0.3.0 in /Users/maelys/tensorflow-test/env/lib/python3.10/site-packages (from autotrain-advanced) (0.3.0)\n",
            "Requirement already satisfied: ipadic==1.0.0 in /Users/maelys/tensorflow-test/env/lib/python3.10/site-packages (from autotrain-advanced) (1.0.0)\n",
            "Collecting huggingface-hub==0.22.2\n",
            "  Using cached huggingface_hub-0.22.2-py3-none-any.whl (388 kB)\n",
            "Requirement already satisfied: pydantic==2.4.2 in /Users/maelys/tensorflow-test/env/lib/python3.10/site-packages (from autotrain-advanced) (2.4.2)\n",
            "Requirement already satisfied: Pillow==10.0.0 in /Users/maelys/tensorflow-test/env/lib/python3.10/site-packages (from autotrain-advanced) (10.0.0)\n",
            "Collecting autotrain-advanced\n",
            "  Using cached autotrain_advanced-0.7.45-py3-none-any.whl (248 kB)\n",
            "  Using cached autotrain_advanced-0.7.44-py3-none-any.whl (248 kB)\n",
            "Collecting accelerate==0.29.0\n",
            "  Using cached accelerate-0.29.0-py3-none-any.whl (297 kB)\n",
            "Collecting autotrain-advanced\n",
            "  Using cached autotrain_advanced-0.7.43-py3-none-any.whl (248 kB)\n",
            "  Using cached autotrain_advanced-0.7.42-py3-none-any.whl (250 kB)\n",
            "  Using cached autotrain_advanced-0.7.41-py3-none-any.whl (250 kB)\n",
            "  Using cached autotrain_advanced-0.7.40-py3-none-any.whl (250 kB)\n",
            "  Using cached autotrain_advanced-0.7.39-py3-none-any.whl (250 kB)\n",
            "  Using cached autotrain_advanced-0.7.38-py3-none-any.whl (250 kB)\n",
            "  Using cached autotrain_advanced-0.7.37-py3-none-any.whl (250 kB)\n",
            "  Using cached autotrain_advanced-0.7.36-py3-none-any.whl (249 kB)\n",
            "  Using cached autotrain_advanced-0.7.35-py3-none-any.whl (249 kB)\n",
            "  Using cached autotrain_advanced-0.7.34-py3-none-any.whl (249 kB)\n",
            "  Using cached autotrain_advanced-0.7.33-py3-none-any.whl (249 kB)\n",
            "  Using cached autotrain_advanced-0.7.32-py3-none-any.whl (249 kB)\n",
            "  Using cached autotrain_advanced-0.7.31-py3-none-any.whl (247 kB)\n",
            "  Using cached autotrain_advanced-0.7.30-py3-none-any.whl (247 kB)\n",
            "  Using cached autotrain_advanced-0.7.29-py3-none-any.whl (247 kB)\n",
            "  Using cached autotrain_advanced-0.7.28-py3-none-any.whl (247 kB)\n",
            "  Using cached autotrain_advanced-0.7.27-py3-none-any.whl (247 kB)\n",
            "  Using cached autotrain_advanced-0.7.26-py3-none-any.whl (246 kB)\n",
            "  Using cached autotrain_advanced-0.7.25-py3-none-any.whl (246 kB)\n",
            "  Using cached autotrain_advanced-0.7.24-py3-none-any.whl (246 kB)\n",
            "  Using cached autotrain_advanced-0.7.23-py3-none-any.whl (246 kB)\n",
            "  Using cached autotrain_advanced-0.7.22-py3-none-any.whl (246 kB)\n",
            "  Using cached autotrain_advanced-0.7.21-py3-none-any.whl (246 kB)\n",
            "  Using cached autotrain_advanced-0.7.20-py3-none-any.whl (246 kB)\n",
            "  Using cached autotrain_advanced-0.7.19-py3-none-any.whl (246 kB)\n",
            "  Using cached autotrain_advanced-0.7.18-py3-none-any.whl (246 kB)\n",
            "  Using cached autotrain_advanced-0.7.17-py3-none-any.whl (246 kB)\n",
            "  Using cached autotrain_advanced-0.7.16-py3-none-any.whl (246 kB)\n",
            "Requirement already satisfied: huggingface-hub>=0.16.4 in /Users/maelys/tensorflow-test/env/lib/python3.10/site-packages (from autotrain-advanced) (0.20.3)\n",
            "Requirement already satisfied: albumentations==1.3.1 in /Users/maelys/tensorflow-test/env/lib/python3.10/site-packages (from autotrain-advanced) (1.3.1)\n",
            "Requirement already satisfied: accelerate==0.27.2 in /Users/maelys/tensorflow-test/env/lib/python3.10/site-packages (from autotrain-advanced) (0.27.2)\n",
            "Requirement already satisfied: codecarbon==2.2.3 in /Users/maelys/tensorflow-test/env/lib/python3.10/site-packages (from autotrain-advanced) (2.2.3)\n",
            "Requirement already satisfied: authlib==1.3.0 in /Users/maelys/tensorflow-test/env/lib/python3.10/site-packages (from autotrain-advanced) (1.3.0)\n",
            "Requirement already satisfied: trl==0.7.11 in /Users/maelys/tensorflow-test/env/lib/python3.10/site-packages (from autotrain-advanced) (0.7.11)\n",
            "Requirement already satisfied: pandas>=1.4 in /Users/maelys/tensorflow-test/env/lib/python3.10/site-packages (from autotrain-advanced) (2.0.3)\n",
            "Requirement already satisfied: werkzeug==2.3.6 in /Users/maelys/tensorflow-test/env/lib/python3.10/site-packages (from autotrain-advanced) (2.3.6)\n",
            "Requirement already satisfied: bitsandbytes==0.42.0 in /Users/maelys/tensorflow-test/env/lib/python3.10/site-packages (from autotrain-advanced) (0.42.0)\n",
            "Requirement already satisfied: tqdm==4.65.0 in /Users/maelys/tensorflow-test/env/lib/python3.10/site-packages (from autotrain-advanced) (4.65.0)\n",
            "Requirement already satisfied: tensorboard in /Users/maelys/tensorflow-test/env/lib/python3.10/site-packages (from autotrain-advanced) (2.16.2)\n",
            "Requirement already satisfied: python-multipart==0.0.6 in /Users/maelys/tensorflow-test/env/lib/python3.10/site-packages (from autotrain-advanced) (0.0.6)\n",
            "Requirement already satisfied: protobuf==4.23.4 in /Users/maelys/tensorflow-test/env/lib/python3.10/site-packages (from autotrain-advanced) (4.23.4)\n",
            "Requirement already satisfied: sentencepiece==0.1.99 in /Users/maelys/tensorflow-test/env/lib/python3.10/site-packages (from autotrain-advanced) (0.1.99)\n",
            "Requirement already satisfied: py7zr==0.20.6 in /Users/maelys/tensorflow-test/env/lib/python3.10/site-packages (from autotrain-advanced) (0.20.6)\n",
            "Requirement already satisfied: peft==0.9.0 in /Users/maelys/tensorflow-test/env/lib/python3.10/site-packages (from autotrain-advanced) (0.9.0)\n",
            "Requirement already satisfied: itsdangerous==2.1.2 in /Users/maelys/tensorflow-test/env/lib/python3.10/site-packages (from autotrain-advanced) (2.1.2)\n",
            "Requirement already satisfied: joblib==1.3.1 in /Users/maelys/tensorflow-test/env/lib/python3.10/site-packages (from autotrain-advanced) (1.3.1)\n",
            "Requirement already satisfied: transformers==4.38.2 in /Users/maelys/tensorflow-test/env/lib/python3.10/site-packages (from autotrain-advanced) (4.38.2)\n",
            "Requirement already satisfied: sacremoses==0.0.53 in /Users/maelys/tensorflow-test/env/lib/python3.10/site-packages (from autotrain-advanced) (0.0.53)\n",
            "Requirement already satisfied: uvicorn==0.22.0 in /Users/maelys/tensorflow-test/env/lib/python3.10/site-packages (from autotrain-advanced) (0.22.0)\n",
            "Requirement already satisfied: optuna==3.3.0 in /Users/maelys/tensorflow-test/env/lib/python3.10/site-packages (from autotrain-advanced) (3.3.0)\n",
            "Requirement already satisfied: hf-transfer in /Users/maelys/tensorflow-test/env/lib/python3.10/site-packages (from autotrain-advanced) (0.1.6)\n",
            "Requirement already satisfied: rouge-score==0.1.2 in /Users/maelys/tensorflow-test/env/lib/python3.10/site-packages (from autotrain-advanced) (0.1.2)\n",
            "Requirement already satisfied: gradio==3.41.0 in /Users/maelys/tensorflow-test/env/lib/python3.10/site-packages (from autotrain-advanced) (3.41.0)\n",
            "Requirement already satisfied: diffusers==0.26.3 in /Users/maelys/tensorflow-test/env/lib/python3.10/site-packages (from autotrain-advanced) (0.26.3)\n",
            "Requirement already satisfied: einops==0.6.1 in /Users/maelys/tensorflow-test/env/lib/python3.10/site-packages (from autotrain-advanced) (0.6.1)\n",
            "Requirement already satisfied: safetensors>=0.3.1 in /Users/maelys/tensorflow-test/env/lib/python3.10/site-packages (from accelerate==0.27.2->autotrain-advanced) (0.4.2)\n",
            "Requirement already satisfied: psutil in /Users/maelys/tensorflow-test/env/lib/python3.10/site-packages (from accelerate==0.27.2->autotrain-advanced) (5.9.1)\n",
            "Requirement already satisfied: pyyaml in /Users/maelys/tensorflow-test/env/lib/python3.10/site-packages (from accelerate==0.27.2->autotrain-advanced) (6.0)\n",
            "Requirement already satisfied: numpy>=1.17 in /Users/maelys/tensorflow-test/env/lib/python3.10/site-packages (from accelerate==0.27.2->autotrain-advanced) (1.22.4)\n",
            "Requirement already satisfied: torch>=1.10.0 in /Users/maelys/tensorflow-test/env/lib/python3.10/site-packages (from accelerate==0.27.2->autotrain-advanced) (2.2.2)\n",
            "Requirement already satisfied: scikit-image>=0.16.1 in /Users/maelys/tensorflow-test/env/lib/python3.10/site-packages (from albumentations==1.3.1->autotrain-advanced) (0.19.3)\n",
            "Requirement already satisfied: qudida>=0.0.4 in /Users/maelys/tensorflow-test/env/lib/python3.10/site-packages (from albumentations==1.3.1->autotrain-advanced) (0.0.4)\n",
            "Requirement already satisfied: opencv-python-headless>=4.1.1 in /Users/maelys/tensorflow-test/env/lib/python3.10/site-packages (from albumentations==1.3.1->autotrain-advanced) (4.6.0.66)\n",
            "Requirement already satisfied: scipy>=1.1.0 in /Users/maelys/tensorflow-test/env/lib/python3.10/site-packages (from albumentations==1.3.1->autotrain-advanced) (1.9.0)\n",
            "Requirement already satisfied: cryptography in /Users/maelys/tensorflow-test/env/lib/python3.10/site-packages (from authlib==1.3.0->autotrain-advanced) (42.0.5)\n",
            "Requirement already satisfied: fuzzywuzzy in /Users/maelys/tensorflow-test/env/lib/python3.10/site-packages (from codecarbon==2.2.3->autotrain-advanced) (0.18.0)\n",
            "Requirement already satisfied: pynvml in /Users/maelys/tensorflow-test/env/lib/python3.10/site-packages (from codecarbon==2.2.3->autotrain-advanced) (11.5.0)\n",
            "Requirement already satisfied: click in /Users/maelys/tensorflow-test/env/lib/python3.10/site-packages (from codecarbon==2.2.3->autotrain-advanced) (8.1.7)\n",
            "Requirement already satisfied: arrow in /Users/maelys/tensorflow-test/env/lib/python3.10/site-packages (from codecarbon==2.2.3->autotrain-advanced) (1.3.0)\n",
            "Requirement already satisfied: py-cpuinfo in /Users/maelys/tensorflow-test/env/lib/python3.10/site-packages (from codecarbon==2.2.3->autotrain-advanced) (9.0.0)\n",
            "Requirement already satisfied: importlib-metadata in /Users/maelys/tensorflow-test/env/lib/python3.10/site-packages (from diffusers==0.26.3->autotrain-advanced) (4.11.4)\n",
            "Requirement already satisfied: regex!=2019.12.17 in /Users/maelys/tensorflow-test/env/lib/python3.10/site-packages (from diffusers==0.26.3->autotrain-advanced) (2023.12.25)\n",
            "Requirement already satisfied: filelock in /Users/maelys/tensorflow-test/env/lib/python3.10/site-packages (from diffusers==0.26.3->autotrain-advanced) (3.13.1)\n",
            "Requirement already satisfied: dill in /Users/maelys/tensorflow-test/env/lib/python3.10/site-packages (from evaluate==0.3.0->autotrain-advanced) (0.3.7)\n",
            "Requirement already satisfied: multiprocess in /Users/maelys/tensorflow-test/env/lib/python3.10/site-packages (from evaluate==0.3.0->autotrain-advanced) (0.70.15)\n",
            "Requirement already satisfied: xxhash in /Users/maelys/tensorflow-test/env/lib/python3.10/site-packages (from evaluate==0.3.0->autotrain-advanced) (3.4.1)\n",
            "Requirement already satisfied: responses<0.19 in /Users/maelys/tensorflow-test/env/lib/python3.10/site-packages (from evaluate==0.3.0->autotrain-advanced) (0.18.0)\n",
            "Requirement already satisfied: fsspec[http]>=2021.05.0 in /Users/maelys/tensorflow-test/env/lib/python3.10/site-packages (from evaluate==0.3.0->autotrain-advanced) (2023.10.0)\n",
            "Requirement already satisfied: typing-extensions>=4.8.0 in /Users/maelys/tensorflow-test/env/lib/python3.10/site-packages (from fastapi==0.104.1->autotrain-advanced) (4.10.0)\n",
            "Requirement already satisfied: anyio<4.0.0,>=3.7.1 in /Users/maelys/tensorflow-test/env/lib/python3.10/site-packages (from fastapi==0.104.1->autotrain-advanced) (3.7.1)\n",
            "Requirement already satisfied: starlette<0.28.0,>=0.27.0 in /Users/maelys/tensorflow-test/env/lib/python3.10/site-packages (from fastapi==0.104.1->autotrain-advanced) (0.27.0)\n",
            "Requirement already satisfied: altair<6.0,>=4.2.0 in /Users/maelys/tensorflow-test/env/lib/python3.10/site-packages (from gradio==3.41.0->autotrain-advanced) (5.3.0)\n",
            "Requirement already satisfied: orjson~=3.0 in /Users/maelys/tensorflow-test/env/lib/python3.10/site-packages (from gradio==3.41.0->autotrain-advanced) (3.10.0)\n",
            "Requirement already satisfied: jinja2<4.0 in /Users/maelys/tensorflow-test/env/lib/python3.10/site-packages (from gradio==3.41.0->autotrain-advanced) (3.1.2)\n",
            "Requirement already satisfied: matplotlib~=3.0 in /Users/maelys/tensorflow-test/env/lib/python3.10/site-packages (from gradio==3.41.0->autotrain-advanced) (3.4.3)\n",
            "Requirement already satisfied: ffmpy in /Users/maelys/tensorflow-test/env/lib/python3.10/site-packages (from gradio==3.41.0->autotrain-advanced) (0.3.2)\n",
            "Requirement already satisfied: websockets<12.0,>=10.0 in /Users/maelys/tensorflow-test/env/lib/python3.10/site-packages (from gradio==3.41.0->autotrain-advanced) (11.0.3)\n",
            "Requirement already satisfied: markupsafe~=2.0 in /Users/maelys/tensorflow-test/env/lib/python3.10/site-packages (from gradio==3.41.0->autotrain-advanced) (2.1.1)\n",
            "Requirement already satisfied: gradio-client==0.5.0 in /Users/maelys/tensorflow-test/env/lib/python3.10/site-packages (from gradio==3.41.0->autotrain-advanced) (0.5.0)\n",
            "Requirement already satisfied: importlib-resources<7.0,>=1.3 in /Users/maelys/tensorflow-test/env/lib/python3.10/site-packages (from gradio==3.41.0->autotrain-advanced) (5.9.0)\n",
            "Requirement already satisfied: httpx in /Users/maelys/tensorflow-test/env/lib/python3.10/site-packages (from gradio==3.41.0->autotrain-advanced) (0.13.3)\n",
            "Requirement already satisfied: pydub in /Users/maelys/tensorflow-test/env/lib/python3.10/site-packages (from gradio==3.41.0->autotrain-advanced) (0.25.1)\n",
            "Requirement already satisfied: aiofiles<24.0,>=22.0 in /Users/maelys/tensorflow-test/env/lib/python3.10/site-packages (from gradio==3.41.0->autotrain-advanced) (23.2.1)\n",
            "Requirement already satisfied: semantic-version~=2.0 in /Users/maelys/tensorflow-test/env/lib/python3.10/site-packages (from gradio==3.41.0->autotrain-advanced) (2.10.0)\n",
            "Requirement already satisfied: PyWavelets>=1.1.1 in /Users/maelys/tensorflow-test/env/lib/python3.10/site-packages (from invisible-watermark==0.2.0->autotrain-advanced) (1.4.1)\n",
            "Requirement already satisfied: opencv-python>=4.1.0.25 in /Users/maelys/tensorflow-test/env/lib/python3.10/site-packages (from invisible-watermark==0.2.0->autotrain-advanced) (4.6.0.66)\n",
            "Requirement already satisfied: rapidfuzz==2.13.7 in /Users/maelys/tensorflow-test/env/lib/python3.10/site-packages (from jiwer==3.0.2->autotrain-advanced) (2.13.7)\n",
            "Requirement already satisfied: alembic>=1.5.0 in /Users/maelys/tensorflow-test/env/lib/python3.10/site-packages (from optuna==3.3.0->autotrain-advanced) (1.13.1)\n",
            "Requirement already satisfied: sqlalchemy>=1.3.0 in /Users/maelys/tensorflow-test/env/lib/python3.10/site-packages (from optuna==3.3.0->autotrain-advanced) (2.0.29)\n",
            "Requirement already satisfied: colorlog in /Users/maelys/tensorflow-test/env/lib/python3.10/site-packages (from optuna==3.3.0->autotrain-advanced) (6.8.2)\n",
            "Requirement already satisfied: cmaes>=0.10.0 in /Users/maelys/tensorflow-test/env/lib/python3.10/site-packages (from optuna==3.3.0->autotrain-advanced) (0.10.0)\n",
            "Requirement already satisfied: pybcj>=0.6.0 in /Users/maelys/tensorflow-test/env/lib/python3.10/site-packages (from py7zr==0.20.6->autotrain-advanced) (1.0.2)\n",
            "Requirement already satisfied: brotli>=1.0.9 in /Users/maelys/tensorflow-test/env/lib/python3.10/site-packages (from py7zr==0.20.6->autotrain-advanced) (1.1.0)\n",
            "Requirement already satisfied: inflate64>=0.3.1 in /Users/maelys/tensorflow-test/env/lib/python3.10/site-packages (from py7zr==0.20.6->autotrain-advanced) (1.0.0)\n",
            "Requirement already satisfied: pyppmd<1.1.0,>=0.18.1 in /Users/maelys/tensorflow-test/env/lib/python3.10/site-packages (from py7zr==0.20.6->autotrain-advanced) (1.0.0)\n",
            "Requirement already satisfied: multivolumefile>=0.2.3 in /Users/maelys/tensorflow-test/env/lib/python3.10/site-packages (from py7zr==0.20.6->autotrain-advanced) (0.2.3)\n",
            "Requirement already satisfied: pyzstd>=0.14.4 in /Users/maelys/tensorflow-test/env/lib/python3.10/site-packages (from py7zr==0.20.6->autotrain-advanced) (0.15.10)\n",
            "Requirement already satisfied: texttable in /Users/maelys/tensorflow-test/env/lib/python3.10/site-packages (from py7zr==0.20.6->autotrain-advanced) (1.7.0)\n",
            "Requirement already satisfied: pycryptodomex>=3.6.6 in /Users/maelys/tensorflow-test/env/lib/python3.10/site-packages (from py7zr==0.20.6->autotrain-advanced) (3.20.0)\n",
            "Requirement already satisfied: pydantic-core==2.10.1 in /Users/maelys/tensorflow-test/env/lib/python3.10/site-packages (from pydantic==2.4.2->autotrain-advanced) (2.10.1)\n",
            "Requirement already satisfied: annotated-types>=0.4.0 in /Users/maelys/tensorflow-test/env/lib/python3.10/site-packages (from pydantic==2.4.2->autotrain-advanced) (0.6.0)\n",
            "Requirement already satisfied: charset-normalizer<4,>=2 in /Users/maelys/tensorflow-test/env/lib/python3.10/site-packages (from requests==2.31.0->autotrain-advanced) (2.1.1)\n",
            "Requirement already satisfied: idna<4,>=2.5 in /Users/maelys/tensorflow-test/env/lib/python3.10/site-packages (from requests==2.31.0->autotrain-advanced) (2.10)\n",
            "Requirement already satisfied: urllib3<3,>=1.21.1 in /Users/maelys/tensorflow-test/env/lib/python3.10/site-packages (from requests==2.31.0->autotrain-advanced) (1.26.12)\n",
            "Requirement already satisfied: certifi>=2017.4.17 in /Users/maelys/tensorflow-test/env/lib/python3.10/site-packages (from requests==2.31.0->autotrain-advanced) (2022.6.15)\n",
            "Requirement already satisfied: six>=1.14.0 in /Users/maelys/tensorflow-test/env/lib/python3.10/site-packages (from rouge-score==0.1.2->autotrain-advanced) (1.16.0)\n",
            "Requirement already satisfied: absl-py in /Users/maelys/tensorflow-test/env/lib/python3.10/site-packages (from rouge-score==0.1.2->autotrain-advanced) (1.2.0)\n",
            "Requirement already satisfied: threadpoolctl>=2.0.0 in /Users/maelys/tensorflow-test/env/lib/python3.10/site-packages (from scikit-learn==1.3.0->autotrain-advanced) (3.1.0)\n",
            "Requirement already satisfied: tokenizers<0.19,>=0.14 in /Users/maelys/tensorflow-test/env/lib/python3.10/site-packages (from transformers==4.38.2->autotrain-advanced) (0.15.2)\n",
            "Requirement already satisfied: tyro>=0.5.11 in /Users/maelys/tensorflow-test/env/lib/python3.10/site-packages (from trl==0.7.11->autotrain-advanced) (0.8.3)\n",
            "Requirement already satisfied: h11>=0.8 in /Users/maelys/tensorflow-test/env/lib/python3.10/site-packages (from uvicorn==0.22.0->autotrain-advanced) (0.9.0)\n",
            "Requirement already satisfied: aiohttp in /Users/maelys/tensorflow-test/env/lib/python3.10/site-packages (from datasets[vision]~=2.14.0->autotrain-advanced) (3.9.3)\n",
            "Requirement already satisfied: pyarrow-hotfix in /Users/maelys/tensorflow-test/env/lib/python3.10/site-packages (from datasets[vision]~=2.14.0->autotrain-advanced) (0.6)\n",
            "Requirement already satisfied: pyarrow>=8.0.0 in /Users/maelys/tensorflow-test/env/lib/python3.10/site-packages (from datasets[vision]~=2.14.0->autotrain-advanced) (14.0.1)\n",
            "Requirement already satisfied: tzdata>=2022.1 in /Users/maelys/tensorflow-test/env/lib/python3.10/site-packages (from pandas>=1.4->autotrain-advanced) (2024.1)\n",
            "Requirement already satisfied: python-dateutil>=2.8.2 in /Users/maelys/tensorflow-test/env/lib/python3.10/site-packages (from pandas>=1.4->autotrain-advanced) (2.8.2)\n",
            "Requirement already satisfied: pytz>=2020.1 in /Users/maelys/tensorflow-test/env/lib/python3.10/site-packages (from pandas>=1.4->autotrain-advanced) (2022.2.1)\n",
            "Requirement already satisfied: markdown>=2.6.8 in /Users/maelys/tensorflow-test/env/lib/python3.10/site-packages (from tensorboard->autotrain-advanced) (3.4.1)\n",
            "Requirement already satisfied: grpcio>=1.48.2 in /Users/maelys/tensorflow-test/env/lib/python3.10/site-packages (from tensorboard->autotrain-advanced) (1.62.1)\n",
            "Requirement already satisfied: tensorboard-data-server<0.8.0,>=0.7.0 in /Users/maelys/tensorflow-test/env/lib/python3.10/site-packages (from tensorboard->autotrain-advanced) (0.7.2)\n",
            "Requirement already satisfied: setuptools>=41.0.0 in /Users/maelys/tensorflow-test/env/lib/python3.10/site-packages (from tensorboard->autotrain-advanced) (59.8.0)\n",
            "Requirement already satisfied: Mako in /Users/maelys/tensorflow-test/env/lib/python3.10/site-packages (from alembic>=1.5.0->optuna==3.3.0->autotrain-advanced) (1.3.3)\n",
            "Requirement already satisfied: toolz in /Users/maelys/tensorflow-test/env/lib/python3.10/site-packages (from altair<6.0,>=4.2.0->gradio==3.41.0->autotrain-advanced) (0.12.1)\n",
            "Requirement already satisfied: jsonschema>=3.0 in /Users/maelys/tensorflow-test/env/lib/python3.10/site-packages (from altair<6.0,>=4.2.0->gradio==3.41.0->autotrain-advanced) (4.14.0)\n",
            "Requirement already satisfied: sniffio>=1.1 in /Users/maelys/tensorflow-test/env/lib/python3.10/site-packages (from anyio<4.0.0,>=3.7.1->fastapi==0.104.1->autotrain-advanced) (1.3.1)\n",
            "Requirement already satisfied: exceptiongroup in /Users/maelys/tensorflow-test/env/lib/python3.10/site-packages (from anyio<4.0.0,>=3.7.1->fastapi==0.104.1->autotrain-advanced) (1.2.0)\n",
            "Requirement already satisfied: attrs>=17.3.0 in /Users/maelys/tensorflow-test/env/lib/python3.10/site-packages (from aiohttp->datasets[vision]~=2.14.0->autotrain-advanced) (22.1.0)\n",
            "Requirement already satisfied: async-timeout<5.0,>=4.0 in /Users/maelys/tensorflow-test/env/lib/python3.10/site-packages (from aiohttp->datasets[vision]~=2.14.0->autotrain-advanced) (4.0.3)\n",
            "Requirement already satisfied: frozenlist>=1.1.1 in /Users/maelys/tensorflow-test/env/lib/python3.10/site-packages (from aiohttp->datasets[vision]~=2.14.0->autotrain-advanced) (1.4.1)\n",
            "Requirement already satisfied: yarl<2.0,>=1.0 in /Users/maelys/tensorflow-test/env/lib/python3.10/site-packages (from aiohttp->datasets[vision]~=2.14.0->autotrain-advanced) (1.9.4)\n",
            "Requirement already satisfied: aiosignal>=1.1.2 in /Users/maelys/tensorflow-test/env/lib/python3.10/site-packages (from aiohttp->datasets[vision]~=2.14.0->autotrain-advanced) (1.3.1)\n",
            "Requirement already satisfied: multidict<7.0,>=4.5 in /Users/maelys/tensorflow-test/env/lib/python3.10/site-packages (from aiohttp->datasets[vision]~=2.14.0->autotrain-advanced) (6.0.5)\n",
            "Requirement already satisfied: cycler>=0.10 in /Users/maelys/tensorflow-test/env/lib/python3.10/site-packages (from matplotlib~=3.0->gradio==3.41.0->autotrain-advanced) (0.11.0)\n",
            "Requirement already satisfied: pyparsing>=2.2.1 in /Users/maelys/tensorflow-test/env/lib/python3.10/site-packages (from matplotlib~=3.0->gradio==3.41.0->autotrain-advanced) (3.0.9)\n",
            "Requirement already satisfied: kiwisolver>=1.0.1 in /Users/maelys/tensorflow-test/env/lib/python3.10/site-packages (from matplotlib~=3.0->gradio==3.41.0->autotrain-advanced) (1.4.4)\n",
            "Requirement already satisfied: networkx>=2.2 in /Users/maelys/tensorflow-test/env/lib/python3.10/site-packages (from scikit-image>=0.16.1->albumentations==1.3.1->autotrain-advanced) (2.8.8)\n",
            "Requirement already satisfied: tifffile>=2019.7.26 in /Users/maelys/tensorflow-test/env/lib/python3.10/site-packages (from scikit-image>=0.16.1->albumentations==1.3.1->autotrain-advanced) (2022.10.10)\n",
            "Requirement already satisfied: imageio>=2.4.1 in /Users/maelys/tensorflow-test/env/lib/python3.10/site-packages (from scikit-image>=0.16.1->albumentations==1.3.1->autotrain-advanced) (2.22.4)\n",
            "Requirement already satisfied: sympy in /Users/maelys/tensorflow-test/env/lib/python3.10/site-packages (from torch>=1.10.0->accelerate==0.27.2->autotrain-advanced) (1.12)\n",
            "Requirement already satisfied: docstring-parser>=0.14.1 in /Users/maelys/tensorflow-test/env/lib/python3.10/site-packages (from tyro>=0.5.11->trl==0.7.11->autotrain-advanced) (0.16)\n",
            "Requirement already satisfied: rich>=11.1.0 in /Users/maelys/tensorflow-test/env/lib/python3.10/site-packages (from tyro>=0.5.11->trl==0.7.11->autotrain-advanced) (13.7.1)\n",
            "Requirement already satisfied: shtab>=1.5.6 in /Users/maelys/tensorflow-test/env/lib/python3.10/site-packages (from tyro>=0.5.11->trl==0.7.11->autotrain-advanced) (1.7.1)\n",
            "Requirement already satisfied: types-python-dateutil>=2.8.10 in /Users/maelys/tensorflow-test/env/lib/python3.10/site-packages (from arrow->codecarbon==2.2.3->autotrain-advanced) (2.9.0.20240316)\n",
            "Requirement already satisfied: cffi>=1.12 in /Users/maelys/tensorflow-test/env/lib/python3.10/site-packages (from cryptography->authlib==1.3.0->autotrain-advanced) (1.15.1)\n",
            "Requirement already satisfied: chardet==3.* in /Users/maelys/tensorflow-test/env/lib/python3.10/site-packages (from httpx->gradio==3.41.0->autotrain-advanced) (3.0.4)\n",
            "Requirement already satisfied: hstspreload in /Users/maelys/tensorflow-test/env/lib/python3.10/site-packages (from httpx->gradio==3.41.0->autotrain-advanced) (2024.3.1)\n",
            "Requirement already satisfied: httpcore==0.9.* in /Users/maelys/tensorflow-test/env/lib/python3.10/site-packages (from httpx->gradio==3.41.0->autotrain-advanced) (0.9.1)\n",
            "Requirement already satisfied: rfc3986<2,>=1.3 in /Users/maelys/tensorflow-test/env/lib/python3.10/site-packages (from httpx->gradio==3.41.0->autotrain-advanced) (1.5.0)\n",
            "Requirement already satisfied: h2==3.* in /Users/maelys/tensorflow-test/env/lib/python3.10/site-packages (from httpcore==0.9.*->httpx->gradio==3.41.0->autotrain-advanced) (3.2.0)\n",
            "Requirement already satisfied: hyperframe<6,>=5.2.0 in /Users/maelys/tensorflow-test/env/lib/python3.10/site-packages (from h2==3.*->httpcore==0.9.*->httpx->gradio==3.41.0->autotrain-advanced) (5.2.0)\n",
            "Requirement already satisfied: hpack<4,>=3.0 in /Users/maelys/tensorflow-test/env/lib/python3.10/site-packages (from h2==3.*->httpcore==0.9.*->httpx->gradio==3.41.0->autotrain-advanced) (3.0.0)\n",
            "Requirement already satisfied: zipp>=0.5 in /Users/maelys/tensorflow-test/env/lib/python3.10/site-packages (from importlib-metadata->diffusers==0.26.3->autotrain-advanced) (3.8.1)\n",
            "Requirement already satisfied: pycparser in /Users/maelys/tensorflow-test/env/lib/python3.10/site-packages (from cffi>=1.12->cryptography->authlib==1.3.0->autotrain-advanced) (2.21)\n",
            "Requirement already satisfied: pyrsistent!=0.17.0,!=0.17.1,!=0.17.2,>=0.14.0 in /Users/maelys/tensorflow-test/env/lib/python3.10/site-packages (from jsonschema>=3.0->altair<6.0,>=4.2.0->gradio==3.41.0->autotrain-advanced) (0.18.1)\n",
            "Requirement already satisfied: pygments<3.0.0,>=2.13.0 in /Users/maelys/tensorflow-test/env/lib/python3.10/site-packages (from rich>=11.1.0->tyro>=0.5.11->trl==0.7.11->autotrain-advanced) (2.13.0)\n",
            "Requirement already satisfied: markdown-it-py>=2.2.0 in /Users/maelys/tensorflow-test/env/lib/python3.10/site-packages (from rich>=11.1.0->tyro>=0.5.11->trl==0.7.11->autotrain-advanced) (3.0.0)\n",
            "Requirement already satisfied: mpmath>=0.19 in /Users/maelys/tensorflow-test/env/lib/python3.10/site-packages (from sympy->torch>=1.10.0->accelerate==0.27.2->autotrain-advanced) (1.3.0)\n",
            "Requirement already satisfied: mdurl~=0.1 in /Users/maelys/tensorflow-test/env/lib/python3.10/site-packages (from markdown-it-py>=2.2.0->rich>=11.1.0->tyro>=0.5.11->trl==0.7.11->autotrain-advanced) (0.1.2)\n",
            "Note: you may need to restart the kernel to use updated packages.\n"
          ]
        }
      ],
      "source": [
        "%pip install -U autotrain-advanced\n"
      ]
    },
    {
      "cell_type": "code",
      "execution_count": 6,
      "metadata": {},
      "outputs": [
        {
          "name": "stdout",
          "output_type": "stream",
          "text": [
            "Requirement already satisfied: torch in /Users/maelys/tensorflow-test/env/lib/python3.10/site-packages (2.2.2)\n",
            "Requirement already satisfied: torchvision in /Users/maelys/tensorflow-test/env/lib/python3.10/site-packages (0.17.2)\n",
            "Requirement already satisfied: fsspec in /Users/maelys/tensorflow-test/env/lib/python3.10/site-packages (from torch) (2023.10.0)\n",
            "Requirement already satisfied: jinja2 in /Users/maelys/tensorflow-test/env/lib/python3.10/site-packages (from torch) (3.1.2)\n",
            "Requirement already satisfied: typing-extensions>=4.8.0 in /Users/maelys/tensorflow-test/env/lib/python3.10/site-packages (from torch) (4.10.0)\n",
            "Requirement already satisfied: filelock in /Users/maelys/tensorflow-test/env/lib/python3.10/site-packages (from torch) (3.13.1)\n",
            "Requirement already satisfied: sympy in /Users/maelys/tensorflow-test/env/lib/python3.10/site-packages (from torch) (1.12)\n",
            "Requirement already satisfied: networkx in /Users/maelys/tensorflow-test/env/lib/python3.10/site-packages (from torch) (2.8.8)\n",
            "Requirement already satisfied: numpy in /Users/maelys/tensorflow-test/env/lib/python3.10/site-packages (from torchvision) (1.22.4)\n",
            "Requirement already satisfied: pillow!=8.3.*,>=5.3.0 in /Users/maelys/tensorflow-test/env/lib/python3.10/site-packages (from torchvision) (10.0.0)\n",
            "Requirement already satisfied: MarkupSafe>=2.0 in /Users/maelys/tensorflow-test/env/lib/python3.10/site-packages (from jinja2->torch) (2.1.1)\n",
            "Requirement already satisfied: mpmath>=0.19 in /Users/maelys/tensorflow-test/env/lib/python3.10/site-packages (from sympy->torch) (1.3.0)\n"
          ]
        }
      ],
      "source": [
        "!pip install torch torchvision\n"
      ]
    },
    {
      "cell_type": "code",
      "execution_count": 7,
      "metadata": {},
      "outputs": [],
      "source": [
        "import os\n",
        "\n",
        "# Define the path to your image directory\n",
        "image_dir = \"/Users/maelys/Desktop/BSE/Thesis/Comics-GenAI/data/\"\n",
        "\n",
        "# Get a list of all files in the directory\n",
        "files = os.listdir(image_dir)\n",
        "\n",
        "# Iterate over each file and delete if it's a .DS_Store file\n",
        "for file in files:\n",
        "    if file.lower() == \".ds_store\":\n",
        "        os.remove(os.path.join(image_dir, file))\n",
        "        print(f\"Deleted .DS_Store file: {file}\")\n"
      ]
    },
    {
      "cell_type": "code",
      "execution_count": 9,
      "metadata": {},
      "outputs": [
        {
          "name": "stdout",
          "output_type": "stream",
          "text": [
            "> \u001b[1mINFO    Namespace(version=False, revision=None, tokenizer=None, image_path='/Users/maelys/Desktop/BSE/Thesis/Comics-GenAI/data/', class_image_path=None, prompt='An image of Piglet posing.', class_prompt=None, num_class_images=100, class_labels_conditioning=None, prior_preservation=None, prior_loss_weight=1.0, resolution=1024, center_crop=None, train_text_encoder=None, sample_batch_size=4, num_steps=500, checkpointing_steps=100000, resume_from_checkpoint=None, scale_lr=None, scheduler='constant', warmup_steps=0, num_cycles=1, lr_power=1.0, dataloader_num_workers=0, use_8bit_adam=None, adam_beta1=0.9, adam_beta2=0.999, adam_weight_decay=0.01, adam_epsilon=1e-08, max_grad_norm=1.0, allow_tf32=None, prior_generation_precision=None, local_rank=-1, xformers=None, pre_compute_text_embeddings=None, tokenizer_max_length=None, text_encoder_use_attention_mask=None, rank=4, xl=None, mixed_precision='none', validation_prompt=None, num_validation_images=4, validation_epochs=50, checkpoints_total_limit=None, validation_images=None, logging=None, train=None, deploy=None, inference=None, username=None, backend='local-cli', token=None, repo_id=None, push_to_hub=None, model='stabilityai/stable-diffusion-xl-base-1.0', project_name='Dreambooth-SDXL', seed=0, epochs=1, gradient_accumulation=4, disable_gradient_checkpointing=None, lr=0.0001, log='none', data_path=None, train_split='train', valid_split=None, batch_size=1, func=<function run_dreambooth_command_factory at 0x16a2405e0>)\u001b[0m\n",
            "> \u001b[1mINFO    Running DreamBooth Training\u001b[0m\n",
            "> \u001b[33m\u001b[1mWARNING Parameters not supplied by user and set to default: vae_model\u001b[0m\n",
            "> \u001b[33m\u001b[1mWARNING Parameters supplied but not used: deploy, inference, backend, valid_split, version, train_split, func, log, train, data_path\u001b[0m\n",
            "> \u001b[1mINFO    Dataset: Dreambooth-SDXL (dreambooth)\n",
            "\u001b[0m\n",
            "> \u001b[1mINFO    Saving concept images\u001b[0m\n",
            "> \u001b[1mINFO    /Users/maelys/Desktop/BSE/Thesis/Comics-GenAI/data/piglet6.jpg\u001b[0m\n",
            "> \u001b[1mINFO    Saving concept images\u001b[0m\n",
            "> \u001b[1mINFO    /Users/maelys/Desktop/BSE/Thesis/Comics-GenAI/data/piglet4.jpg\u001b[0m\n",
            "> \u001b[1mINFO    Saving concept images\u001b[0m\n",
            "> \u001b[1mINFO    /Users/maelys/Desktop/BSE/Thesis/Comics-GenAI/data/piglet1.jpg\u001b[0m\n",
            "> \u001b[1mINFO    Saving concept images\u001b[0m\n",
            "> \u001b[1mINFO    /Users/maelys/Desktop/BSE/Thesis/Comics-GenAI/data/piglet2.jpg\u001b[0m\n",
            "> \u001b[1mINFO    Saving concept images\u001b[0m\n",
            "> \u001b[1mINFO    /Users/maelys/Desktop/BSE/Thesis/Comics-GenAI/data/piglet3.jpg\u001b[0m\n",
            "> \u001b[1mINFO    Starting local training...\u001b[0m\n",
            "> \u001b[1mINFO    {\"model\":\"stabilityai/stable-diffusion-xl-base-1.0\",\"vae_model\":null,\"revision\":null,\"tokenizer\":null,\"image_path\":\"Dreambooth-SDXL/autotrain-data\",\"class_image_path\":null,\"prompt\":\"An image of Piglet posing.\",\"class_prompt\":null,\"num_class_images\":100,\"class_labels_conditioning\":null,\"prior_preservation\":false,\"prior_loss_weight\":1.0,\"project_name\":\"Dreambooth-SDXL\",\"seed\":0,\"resolution\":1024,\"center_crop\":false,\"train_text_encoder\":false,\"batch_size\":1,\"sample_batch_size\":4,\"epochs\":1,\"num_steps\":500,\"checkpointing_steps\":100000,\"resume_from_checkpoint\":null,\"gradient_accumulation\":4,\"disable_gradient_checkpointing\":false,\"lr\":0.0001,\"scale_lr\":false,\"scheduler\":\"constant\",\"warmup_steps\":0,\"num_cycles\":1,\"lr_power\":1.0,\"dataloader_num_workers\":0,\"use_8bit_adam\":false,\"adam_beta1\":0.9,\"adam_beta2\":0.999,\"adam_weight_decay\":0.01,\"adam_epsilon\":1e-8,\"max_grad_norm\":1.0,\"allow_tf32\":false,\"prior_generation_precision\":null,\"local_rank\":-1,\"xformers\":false,\"pre_compute_text_embeddings\":false,\"tokenizer_max_length\":null,\"text_encoder_use_attention_mask\":false,\"rank\":4,\"xl\":true,\"mixed_precision\":\"none\",\"token\":null,\"repo_id\":null,\"push_to_hub\":false,\"username\":null,\"validation_prompt\":null,\"num_validation_images\":4,\"validation_epochs\":50,\"checkpoints_total_limit\":null,\"validation_images\":null,\"logging\":false}\u001b[0m\n",
            "> \u001b[1mINFO    ['python', '-m', 'autotrain.trainers.dreambooth', '--training_config', 'Dreambooth-SDXL/training_params.json']\u001b[0m\n",
            "/Users/maelys/tensorflow-test/env/lib/python3.10/site-packages/diffusers/utils/outputs.py:63: UserWarning: torch.utils._pytree._register_pytree_node is deprecated. Please use torch.utils._pytree.register_pytree_node instead.\n",
            "  torch.utils._pytree._register_pytree_node(\n",
            "/Users/maelys/tensorflow-test/env/lib/python3.10/site-packages/diffusers/utils/outputs.py:63: UserWarning: torch.utils._pytree._register_pytree_node is deprecated. Please use torch.utils._pytree.register_pytree_node instead.\n",
            "  torch.utils._pytree._register_pytree_node(\n",
            "\u001b[31m\u001b[1m❌ ERROR \u001b[0m | \u001b[32m2024-04-10 19:21:31\u001b[0m | \u001b[36mautotrain.trainers.common\u001b[0m:\u001b[36mwrapper\u001b[0m:\u001b[36m91\u001b[0m - \u001b[31m\u001b[1mtrain has failed due to an exception: Traceback (most recent call last):\n",
            "  File \"/Users/maelys/tensorflow-test/env/lib/python3.10/site-packages/transformers/utils/import_utils.py\", line 1390, in _get_module\n",
            "    return importlib.import_module(\".\" + module_name, self.__name__)\n",
            "  File \"/Users/maelys/tensorflow-test/env/lib/python3.10/importlib/__init__.py\", line 126, in import_module\n",
            "    return _bootstrap._gcd_import(name[level:], package, level)\n",
            "  File \"<frozen importlib._bootstrap>\", line 1050, in _gcd_import\n",
            "  File \"<frozen importlib._bootstrap>\", line 1027, in _find_and_load\n",
            "  File \"<frozen importlib._bootstrap>\", line 1006, in _find_and_load_unlocked\n",
            "  File \"<frozen importlib._bootstrap>\", line 688, in _load_unlocked\n",
            "  File \"<frozen importlib._bootstrap_external>\", line 883, in exec_module\n",
            "  File \"<frozen importlib._bootstrap>\", line 241, in _call_with_frames_removed\n",
            "  File \"/Users/maelys/tensorflow-test/env/lib/python3.10/site-packages/transformers/models/clip/image_processing_clip.py\", line 21, in <module>\n",
            "    from ...image_processing_utils import BaseImageProcessor, BatchFeature, get_size_dict\n",
            "  File \"/Users/maelys/tensorflow-test/env/lib/python3.10/site-packages/transformers/image_processing_utils.py\", line 28, in <module>\n",
            "    from .image_transforms import center_crop, normalize, rescale\n",
            "  File \"/Users/maelys/tensorflow-test/env/lib/python3.10/site-packages/transformers/image_transforms.py\", line 47, in <module>\n",
            "    import tensorflow as tf\n",
            "  File \"/Users/maelys/tensorflow-test/env/lib/python3.10/site-packages/tensorflow/__init__.py\", line 37, in <module>\n",
            "    from tensorflow.python.tools import module_util as _module_util\n",
            "  File \"/Users/maelys/tensorflow-test/env/lib/python3.10/site-packages/tensorflow/python/__init__.py\", line 37, in <module>\n",
            "    from tensorflow.python.eager import context\n",
            "  File \"/Users/maelys/tensorflow-test/env/lib/python3.10/site-packages/tensorflow/python/eager/context.py\", line 29, in <module>\n",
            "    from tensorflow.core.framework import function_pb2\n",
            "  File \"/Users/maelys/tensorflow-test/env/lib/python3.10/site-packages/tensorflow/core/framework/function_pb2.py\", line 16, in <module>\n",
            "    from tensorflow.core.framework import attr_value_pb2 as tensorflow_dot_core_dot_framework_dot_attr__value__pb2\n",
            "  File \"/Users/maelys/tensorflow-test/env/lib/python3.10/site-packages/tensorflow/core/framework/attr_value_pb2.py\", line 16, in <module>\n",
            "    from tensorflow.core.framework import tensor_pb2 as tensorflow_dot_core_dot_framework_dot_tensor__pb2\n",
            "  File \"/Users/maelys/tensorflow-test/env/lib/python3.10/site-packages/tensorflow/core/framework/tensor_pb2.py\", line 16, in <module>\n",
            "    from tensorflow.core.framework import resource_handle_pb2 as tensorflow_dot_core_dot_framework_dot_resource__handle__pb2\n",
            "  File \"/Users/maelys/tensorflow-test/env/lib/python3.10/site-packages/tensorflow/core/framework/resource_handle_pb2.py\", line 16, in <module>\n",
            "    from tensorflow.core.framework import tensor_shape_pb2 as tensorflow_dot_core_dot_framework_dot_tensor__shape__pb2\n",
            "  File \"/Users/maelys/tensorflow-test/env/lib/python3.10/site-packages/tensorflow/core/framework/tensor_shape_pb2.py\", line 36, in <module>\n",
            "    _descriptor.FieldDescriptor(\n",
            "  File \"/Users/maelys/tensorflow-test/env/lib/python3.10/site-packages/google/protobuf/descriptor.py\", line 561, in __new__\n",
            "    _message.Message._CheckCalledFromGeneratedFile()\n",
            "TypeError: Descriptors cannot not be created directly.\n",
            "If this call came from a _pb2.py file, your generated code is out of date and must be regenerated with protoc >= 3.19.0.\n",
            "If you cannot immediately regenerate your protos, some other possible workarounds are:\n",
            " 1. Downgrade the protobuf package to 3.20.x or lower.\n",
            " 2. Set PROTOCOL_BUFFERS_PYTHON_IMPLEMENTATION=python (but this will use pure-Python parsing and will be much slower).\n",
            "\n",
            "More information: https://developers.google.com/protocol-buffers/docs/news/2022-05-06#python-updates\n",
            "\n",
            "The above exception was the direct cause of the following exception:\n",
            "\n",
            "Traceback (most recent call last):\n",
            "  File \"/Users/maelys/tensorflow-test/env/lib/python3.10/site-packages/diffusers/utils/import_utils.py\", line 704, in _get_module\n",
            "    return importlib.import_module(\".\" + module_name, self.__name__)\n",
            "  File \"/Users/maelys/tensorflow-test/env/lib/python3.10/importlib/__init__.py\", line 126, in import_module\n",
            "    return _bootstrap._gcd_import(name[level:], package, level)\n",
            "  File \"<frozen importlib._bootstrap>\", line 1050, in _gcd_import\n",
            "  File \"<frozen importlib._bootstrap>\", line 1027, in _find_and_load\n",
            "  File \"<frozen importlib._bootstrap>\", line 1006, in _find_and_load_unlocked\n",
            "  File \"<frozen importlib._bootstrap>\", line 688, in _load_unlocked\n",
            "  File \"<frozen importlib._bootstrap_external>\", line 883, in exec_module\n",
            "  File \"<frozen importlib._bootstrap>\", line 241, in _call_with_frames_removed\n",
            "  File \"/Users/maelys/tensorflow-test/env/lib/python3.10/site-packages/diffusers/pipelines/stable_diffusion_xl/pipeline_stable_diffusion_xl.py\", line 19, in <module>\n",
            "    from transformers import (\n",
            "  File \"<frozen importlib._bootstrap>\", line 1075, in _handle_fromlist\n",
            "  File \"/Users/maelys/tensorflow-test/env/lib/python3.10/site-packages/transformers/utils/import_utils.py\", line 1381, in __getattr__\n",
            "    value = getattr(module, name)\n",
            "  File \"/Users/maelys/tensorflow-test/env/lib/python3.10/site-packages/transformers/utils/import_utils.py\", line 1380, in __getattr__\n",
            "    module = self._get_module(self._class_to_module[name])\n",
            "  File \"/Users/maelys/tensorflow-test/env/lib/python3.10/site-packages/transformers/utils/import_utils.py\", line 1392, in _get_module\n",
            "    raise RuntimeError(\n",
            "RuntimeError: Failed to import transformers.models.clip.image_processing_clip because of the following error (look up to see its traceback):\n",
            "Descriptors cannot not be created directly.\n",
            "If this call came from a _pb2.py file, your generated code is out of date and must be regenerated with protoc >= 3.19.0.\n",
            "If you cannot immediately regenerate your protos, some other possible workarounds are:\n",
            " 1. Downgrade the protobuf package to 3.20.x or lower.\n",
            " 2. Set PROTOCOL_BUFFERS_PYTHON_IMPLEMENTATION=python (but this will use pure-Python parsing and will be much slower).\n",
            "\n",
            "More information: https://developers.google.com/protocol-buffers/docs/news/2022-05-06#python-updates\n",
            "\n",
            "The above exception was the direct cause of the following exception:\n",
            "\n",
            "Traceback (most recent call last):\n",
            "  File \"/Users/maelys/tensorflow-test/env/lib/python3.10/site-packages/autotrain/trainers/common.py\", line 88, in wrapper\n",
            "    return func(*args, **kwargs)\n",
            "  File \"/Users/maelys/tensorflow-test/env/lib/python3.10/site-packages/autotrain/trainers/dreambooth/__main__.py\", line 47, in train\n",
            "    from autotrain.trainers.dreambooth.train_xl import main\n",
            "  File \"/Users/maelys/tensorflow-test/env/lib/python3.10/site-packages/autotrain/trainers/dreambooth/train_xl.py\", line 33, in <module>\n",
            "    from diffusers import (\n",
            "  File \"<frozen importlib._bootstrap>\", line 1075, in _handle_fromlist\n",
            "  File \"/Users/maelys/tensorflow-test/env/lib/python3.10/site-packages/diffusers/utils/import_utils.py\", line 695, in __getattr__\n",
            "    value = getattr(module, name)\n",
            "  File \"/Users/maelys/tensorflow-test/env/lib/python3.10/site-packages/diffusers/utils/import_utils.py\", line 695, in __getattr__\n",
            "    value = getattr(module, name)\n",
            "  File \"/Users/maelys/tensorflow-test/env/lib/python3.10/site-packages/diffusers/utils/import_utils.py\", line 694, in __getattr__\n",
            "    module = self._get_module(self._class_to_module[name])\n",
            "  File \"/Users/maelys/tensorflow-test/env/lib/python3.10/site-packages/diffusers/utils/import_utils.py\", line 706, in _get_module\n",
            "    raise RuntimeError(\n",
            "RuntimeError: Failed to import diffusers.pipelines.stable_diffusion_xl.pipeline_stable_diffusion_xl because of the following error (look up to see its traceback):\n",
            "Failed to import transformers.models.clip.image_processing_clip because of the following error (look up to see its traceback):\n",
            "Descriptors cannot not be created directly.\n",
            "If this call came from a _pb2.py file, your generated code is out of date and must be regenerated with protoc >= 3.19.0.\n",
            "If you cannot immediately regenerate your protos, some other possible workarounds are:\n",
            " 1. Downgrade the protobuf package to 3.20.x or lower.\n",
            " 2. Set PROTOCOL_BUFFERS_PYTHON_IMPLEMENTATION=python (but this will use pure-Python parsing and will be much slower).\n",
            "\n",
            "More information: https://developers.google.com/protocol-buffers/docs/news/2022-05-06#python-updates\n",
            "\u001b[0m\n",
            "\u001b[31m\u001b[1m❌ ERROR \u001b[0m | \u001b[32m2024-04-10 19:21:31\u001b[0m | \u001b[36mautotrain.trainers.common\u001b[0m:\u001b[36mwrapper\u001b[0m:\u001b[36m92\u001b[0m - \u001b[31m\u001b[1mFailed to import diffusers.pipelines.stable_diffusion_xl.pipeline_stable_diffusion_xl because of the following error (look up to see its traceback):\n",
            "Failed to import transformers.models.clip.image_processing_clip because of the following error (look up to see its traceback):\n",
            "Descriptors cannot not be created directly.\n",
            "If this call came from a _pb2.py file, your generated code is out of date and must be regenerated with protoc >= 3.19.0.\n",
            "If you cannot immediately regenerate your protos, some other possible workarounds are:\n",
            " 1. Downgrade the protobuf package to 3.20.x or lower.\n",
            " 2. Set PROTOCOL_BUFFERS_PYTHON_IMPLEMENTATION=python (but this will use pure-Python parsing and will be much slower).\n",
            "\n",
            "More information: https://developers.google.com/protocol-buffers/docs/news/2022-05-06#python-updates\u001b[0m\n"
          ]
        }
      ],
      "source": [
        "!autotrain dreambooth \\\n",
        "--model \"stabilityai/stable-diffusion-xl-base-1.0\" \\\n",
        "--project-name \"Dreambooth-SDXL\" \\\n",
        "--image-path \"/Users/maelys/Desktop/BSE/Thesis/Comics-GenAI/data/\" \\\n",
        "--prompt \"An image of Piglet posing.\" \\\n",
        "--resolution 1024 \\\n",
        "--batch-size 1 \\\n",
        "--num-steps 500 \\\n",
        "--gradient-accumulation 4 \\\n",
        "--lr 1e-4 \\\n",
        "--seed 0 "
      ]
    },
    {
      "cell_type": "code",
      "execution_count": null,
      "metadata": {
        "id": "GOiZSXHfx3mJ"
      },
      "outputs": [],
      "source": [
        "# #!/usr/bin/env bash\n",
        "# !accelerate launch train_dreambooth_lora_sdxl.py \\\n",
        "#   --pretrained_model_name_or_path=\"stabilityai/stable-diffusion-xl-base-1.0\" \\\n",
        "#   --pretrained_vae_model_name_or_path=\"madebyollin/sdxl-vae-fp16-fix\" \\\n",
        "#   --dataset_name=\"SDXL_train\" \\\n",
        "#   --output_dir=\"SDXL_LoRA_model\" \\\n",
        "#   --caption_column=\"prompt\"\\\n",
        "#   --mixed_precision=\"fp16\" \\\n",
        "#   --instance_prompt=\"a photo of TOK home\" \\\n",
        "#   --resolution=1024 \\\n",
        "#   --train_batch_size=1 \\\n",
        "#   --gradient_accumulation_steps=3 \\\n",
        "#   --gradient_checkpointing \\\n",
        "#   --learning_rate=1e-4 \\\n",
        "#   --snr_gamma=5.0 \\\n",
        "#   --lr_scheduler=\"constant\" \\\n",
        "#   --lr_warmup_steps=0 \\\n",
        "#   --mixed_precision=\"fp16\" \\\n",
        "#   --use_8bit_adam \\\n",
        "#   --max_train_steps=500 \\\n",
        "#   --checkpointing_steps=717 \\\n"
      ]
    },
    {
      "cell_type": "markdown",
      "metadata": {
        "id": "bH7-YJwMcyra"
      },
      "source": [
        "#### Step 4: Inference model\n",
        "Load the fine-tuned LoRA weights."
      ]
    },
    {
      "cell_type": "code",
      "execution_count": null,
      "metadata": {
        "id": "eTz6Zmfc0i-0"
      },
      "outputs": [],
      "source": [
        "import torch\n",
        "from diffusers import DiffusionPipeline, AutoencoderKL\n",
        "\n",
        "vae = AutoencoderKL.from_pretrained(\"madebyollin/sdxl-vae-fp16-fix\", torch_dtype=torch.float16)\n",
        "pipe = DiffusionPipeline.from_pretrained(\n",
        "    \"stabilityai/stable-diffusion-xl-base-1.0\",\n",
        "    vae=vae,\n",
        "    torch_dtype=torch.float16,\n",
        "    variant=\"fp16\",\n",
        "    use_safetensors=True\n",
        ")\n",
        "pipe.load_lora_weights('/content/SDXL_LoRA_model/pytorch_lora_weights.safetensors')\n",
        "_ = pipe.to(\"cuda\")"
      ]
    },
    {
      "cell_type": "markdown",
      "metadata": {
        "id": "FWV-r8_VRP87"
      },
      "source": [
        "Text to Image Generation"
      ]
    },
    {
      "cell_type": "code",
      "execution_count": null,
      "metadata": {
        "id": "5J1NsUP51E2w"
      },
      "outputs": [],
      "source": [
        "prompt = \"A photo of TOK home, an Indian living room basking in Republic Day morning sun, adorned with saffron, white, and green decor, and vibrant festive accents.\"\n",
        "\n",
        "image = pipe(prompt=prompt, num_inference_steps=25).images[0]\n",
        "\n",
        "# Save the SDXL image output.\n",
        "image.save('/content/sdxl_output.png')"
      ]
    },
    {
      "cell_type": "markdown",
      "metadata": {
        "id": "c4rrBud9RgjN"
      },
      "source": [
        "#### Image to Image Generation"
      ]
    },
    {
      "cell_type": "markdown",
      "metadata": {
        "id": "7FUOsDaZY8-M"
      },
      "source": [
        "Load the fine-tuned LoRA weights."
      ]
    },
    {
      "cell_type": "code",
      "execution_count": null,
      "metadata": {
        "id": "4GksN5r4RnOa"
      },
      "outputs": [],
      "source": [
        "from diffusers import AutoPipelineForImage2Image\n",
        "from diffusers.utils import make_image_grid, load_image\n",
        "\n",
        "pipeline = AutoPipelineForImage2Image.from_pretrained(\n",
        "    \"stabilityai/stable-diffusion-xl-base-1.0\", torch_dtype=torch.float16, variant=\"fp16\", use_safetensors=True\n",
        ")\n",
        "pipeline.load_lora_weights('/content/SDXL_LoRA_model/pytorch_lora_weights.safetensors')\n",
        "_ = pipeline.to(\"cuda\")\n",
        "\n",
        "pipeline.enable_model_cpu_offload()"
      ]
    },
    {
      "cell_type": "markdown",
      "metadata": {
        "id": "IFaH3E6x9QF4"
      },
      "source": [
        "**Note:** Image-to-image generation might possibly require a runtime restart."
      ]
    },
    {
      "cell_type": "code",
      "execution_count": null,
      "metadata": {
        "id": "GWBevyGnZF9m"
      },
      "outputs": [],
      "source": [
        "# Pass the text-to-image generated output as an input to image-to-image.\n",
        "image2image = load_image('/content/sdxl_output.png')\n",
        "resized_image = image2image.resize((1024, 576))\n",
        "\n",
        "prompt = \"A photo of TOK home, an Indian living room basking in Republic Day morning sun, adorned with saffron, white, and green decor, and vibrant festive accents.\"\n",
        "\n",
        "# pass prompt and image to pipeline\n",
        "image_output = pipeline(prompt, image=resized_image, strength=0.5).images[0]\n",
        "make_image_grid([image, image_output], rows=1, cols=2)"
      ]
    }
  ],
  "metadata": {
    "accelerator": "GPU",
    "colab": {
      "gpuType": "T4",
      "provenance": []
    },
    "kernelspec": {
      "display_name": "Python 3",
      "name": "python3"
    },
    "language_info": {
      "codemirror_mode": {
        "name": "ipython",
        "version": 3
      },
      "file_extension": ".py",
      "mimetype": "text/x-python",
      "name": "python",
      "nbconvert_exporter": "python",
      "pygments_lexer": "ipython3",
      "version": "3.10.6"
    }
  },
  "nbformat": 4,
  "nbformat_minor": 0
}
